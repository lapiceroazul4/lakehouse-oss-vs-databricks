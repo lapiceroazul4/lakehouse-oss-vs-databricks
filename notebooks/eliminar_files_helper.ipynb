{
 "cells": [
  {
   "cell_type": "code",
   "execution_count": 5,
   "id": "49399f62-90b0-40c0-bffd-5b723476d2c1",
   "metadata": {},
   "outputs": [
    {
     "name": "stdout",
     "output_type": "stream",
     "text": [
      "Collecting azure-storage-file-datalake>=12.9\n",
      "  Downloading azure_storage_file_datalake-12.21.0-py3-none-any.whl.metadata (16 kB)\n",
      "Requirement already satisfied: azure-core>=1.29 in /opt/conda/lib/python3.11/site-packages (1.35.0)\n",
      "Requirement already satisfied: azure-storage-blob>=12.26.0 in /opt/conda/lib/python3.11/site-packages (from azure-storage-file-datalake>=12.9) (12.26.0)\n",
      "Requirement already satisfied: typing-extensions>=4.6.0 in /opt/conda/lib/python3.11/site-packages (from azure-storage-file-datalake>=12.9) (4.15.0)\n",
      "Requirement already satisfied: isodate>=0.6.1 in /opt/conda/lib/python3.11/site-packages (from azure-storage-file-datalake>=12.9) (0.7.2)\n",
      "Requirement already satisfied: requests>=2.21.0 in /opt/conda/lib/python3.11/site-packages (from azure-core>=1.29) (2.31.0)\n",
      "Requirement already satisfied: six>=1.11.0 in /opt/conda/lib/python3.11/site-packages (from azure-core>=1.29) (1.16.0)\n",
      "Requirement already satisfied: cryptography>=2.1.4 in /opt/conda/lib/python3.11/site-packages (from azure-storage-blob>=12.26.0->azure-storage-file-datalake>=12.9) (41.0.4)\n",
      "Requirement already satisfied: charset-normalizer<4,>=2 in /opt/conda/lib/python3.11/site-packages (from requests>=2.21.0->azure-core>=1.29) (3.3.0)\n",
      "Requirement already satisfied: idna<4,>=2.5 in /opt/conda/lib/python3.11/site-packages (from requests>=2.21.0->azure-core>=1.29) (3.4)\n",
      "Requirement already satisfied: urllib3<3,>=1.21.1 in /opt/conda/lib/python3.11/site-packages (from requests>=2.21.0->azure-core>=1.29) (2.0.7)\n",
      "Requirement already satisfied: certifi>=2017.4.17 in /opt/conda/lib/python3.11/site-packages (from requests>=2.21.0->azure-core>=1.29) (2023.7.22)\n",
      "Requirement already satisfied: cffi>=1.12 in /opt/conda/lib/python3.11/site-packages (from cryptography>=2.1.4->azure-storage-blob>=12.26.0->azure-storage-file-datalake>=12.9) (1.16.0)\n",
      "Requirement already satisfied: pycparser in /opt/conda/lib/python3.11/site-packages (from cffi>=1.12->cryptography>=2.1.4->azure-storage-blob>=12.26.0->azure-storage-file-datalake>=12.9) (2.21)\n",
      "Downloading azure_storage_file_datalake-12.21.0-py3-none-any.whl (264 kB)\n",
      "\u001b[2K   \u001b[90m━━━━━━━━━━━━━━━━━━━━━━━━━━━━━━━━━━━━━━━━\u001b[0m \u001b[32m264.1/264.1 kB\u001b[0m \u001b[31m4.4 MB/s\u001b[0m eta \u001b[36m0:00:00\u001b[0m \u001b[36m0:00:01\u001b[0m\n",
      "\u001b[?25hInstalling collected packages: azure-storage-file-datalake\n",
      "Successfully installed azure-storage-file-datalake-12.21.0\n"
     ]
    }
   ],
   "source": [
    "!pip install \"azure-storage-file-datalake>=12.9\" \"azure-core>=1.29\""
   ]
  },
  {
   "cell_type": "code",
   "execution_count": null,
   "id": "b2203eaa-7962-480f-a5fe-a22d6d232bdf",
   "metadata": {},
   "outputs": [],
   "source": [
    "from azure.storage.filedatalake import DataLakeServiceClient\n",
    "from azure.core.exceptions import ResourceNotFoundError, HttpResponseError\n",
    "\n",
    "import os\n",
    "import time\n",
    "\n",
    "ACCOUNT_NAME = os.getenv(\"AZURE_STORAGE_ACCOUNT_NAME\")\n",
    "ACCOUNT_KEY = os.getenv(\"AZURE_STORAGE_ACCOUNT_KEY\")\n",
    "FILESYSTEM = os.getenv(\"AZURE_CONTAINER_NAME\")\n",
    "\n",
    "def dl_client():\n",
    "    return DataLakeServiceClient(\n",
    "        account_url=f\"https://{ACCOUNT_NAME}.dfs.core.windows.net\",  # .dfs para ADLS Gen2 (HNS)\n",
    "        credential=ACCOUNT_KEY\n",
    "    )\n",
    "\n",
    "def clear_directory_preserving_root(max_passes=4, sleep=0.5, ROOT_DIR=\"GRUPO_6\"):\n",
    "    \"\"\"\n",
    "    Vacía ROOT_DIR: borra FILES y luego DIRECTORIOS bottom-up.\n",
    "    Repite varias pasadas para resolver 409 DirectoryIsNotEmpty por carreras.\n",
    "    \"\"\"\n",
    "    svc = dl_client()\n",
    "    fs = svc.get_file_system_client(FILESYSTEM)\n",
    "\n",
    "    # Asegura que exista el directorio raíz\n",
    "    dirc = fs.get_directory_client(ROOT_DIR)\n",
    "    try:\n",
    "        # <- nombre correcto del método\n",
    "        dirc.get_directory_properties()\n",
    "    except ResourceNotFoundError:\n",
    "        print(f\"'{ROOT_DIR}' no existe; lo creo vacío.\")\n",
    "        fs.create_directory(ROOT_DIR)\n",
    "        return\n",
    "\n",
    "    total_files = total_dirs = 0\n",
    "    for attempt in range(1, max_passes + 1):\n",
    "        deleted_files = deleted_dirs = 0\n",
    "\n",
    "        # 1) Borrar todos los FILES (recursivo)\n",
    "        for p in fs.get_paths(path=ROOT_DIR, recursive=True):\n",
    "            if not p.is_directory:\n",
    "                try:\n",
    "                    fs.delete_file(p.name)\n",
    "                    deleted_files += 1\n",
    "                except ResourceNotFoundError:\n",
    "                    pass\n",
    "                except HttpResponseError:\n",
    "                    # lock transitorio; reintenta en la siguiente pasada\n",
    "                    pass\n",
    "\n",
    "        total_files += deleted_files\n",
    "\n",
    "        # 2) Borrar DIRECTORIOS de lo más profundo a lo menos profundo\n",
    "        paths = list(fs.get_paths(path=ROOT_DIR, recursive=True))\n",
    "        paths.sort(key=lambda x: x.name.count(\"/\"), reverse=True)\n",
    "        for p in paths:\n",
    "            if p.is_directory:\n",
    "                try:\n",
    "                    fs.delete_directory(p.name)  # sin recursive: ya no debería tener hijos\n",
    "                    deleted_dirs += 1\n",
    "                except ResourceNotFoundError:\n",
    "                    pass\n",
    "                except HttpResponseError:\n",
    "                    # 409 DirectoryIsNotEmpty; se resolverá en otra pasada\n",
    "                    pass\n",
    "\n",
    "        total_dirs += deleted_dirs\n",
    "\n",
    "        # ¿Quedó vacío?\n",
    "        any_left = next(fs.get_paths(path=ROOT_DIR, recursive=True), None) is not None\n",
    "        if not any_left:\n",
    "            print(f\"✅ '{ROOT_DIR}' vacío. Archivos: {total_files}, directorios: {total_dirs}.\")\n",
    "            return\n",
    "\n",
    "        time.sleep(sleep)\n",
    "\n",
    "    print(f\"⚠️ Tras {max_passes} pasadas aún quedan elementos en '{ROOT_DIR}'. \"\n",
    "          f\"Borrados archivos: {total_files}, directorios: {total_dirs}. Re-ejecuta o sube max_passes.\")\n"
   ]
  },
  {
   "cell_type": "code",
   "execution_count": 13,
   "id": "ca14e0e9-0512-439f-af4f-72288d30b514",
   "metadata": {},
   "outputs": [
    {
     "name": "stdout",
     "output_type": "stream",
     "text": [
      "✅ 'GRUPO_X' vacío. Archivos: 10, directorios: 10.\n"
     ]
    }
   ],
   "source": [
    "clear_directory_preserving_root()"
   ]
  }
 ],
 "metadata": {
  "kernelspec": {
   "display_name": "Python 3 (ipykernel)",
   "language": "python",
   "name": "python3"
  },
  "language_info": {
   "codemirror_mode": {
    "name": "ipython",
    "version": 3
   },
   "file_extension": ".py",
   "mimetype": "text/x-python",
   "name": "python",
   "nbconvert_exporter": "python",
   "pygments_lexer": "ipython3",
   "version": "3.11.6"
  }
 },
 "nbformat": 4,
 "nbformat_minor": 5
}

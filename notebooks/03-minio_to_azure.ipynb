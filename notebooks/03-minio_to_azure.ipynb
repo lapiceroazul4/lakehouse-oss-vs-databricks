{
 "cells": [
  {
   "cell_type": "code",
   "execution_count": null,
   "id": "cab37010",
   "metadata": {},
   "outputs": [],
   "source": [
    "import os\n",
    "from dotenv import load_dotenv\n",
    "from azure.storage.blob import BlobServiceClient\n",
    "from dlt.sources.filesystem import readers\n",
    "import dlt\n",
    "\n",
    "load_dotenv()"
   ]
  },
  {
   "cell_type": "code",
   "execution_count": null,
   "id": "1cb9e555-2e73-407b-bb3f-4fdeb278c5bf",
   "metadata": {},
   "outputs": [],
   "source": [
    "pipeline = dlt.pipeline(\n",
    "    pipeline_name=\"minio_to_azure\",\n",
    "    destination=\"filesystem\",\n",
    "    dataset_name=\"dimelo_flow\",\n",
    ")"
   ]
  },
  {
   "cell_type": "code",
   "execution_count": 3,
   "id": "4c00f03d-3b95-4178-a163-4f3d4f3cf50a",
   "metadata": {},
   "outputs": [],
   "source": [
    "parquet_reader = readers(\n",
    "    bucket_url=\"s3://my-bucket/taxis/taxis_iceberg_5128d68f-aa5c-4270-a561-d530f60229b4/data\",\n",
    "    file_glob=\"*.parquet\"\n",
    ").read_parquet()\n",
    "\n",
    "parquet_reader = parquet_reader.with_name(\"df_parquet\")"
   ]
  },
  {
   "cell_type": "code",
   "execution_count": 4,
   "id": "8319cf26-0a57-4626-8c08-64fa720b8a4d",
   "metadata": {},
   "outputs": [
    {
     "name": "stdout",
     "output_type": "stream",
     "text": [
      "Pipeline minio_to_azure load step completed in 3 minutes and 16.32 seconds\n",
      "1 load package(s) were loaded to destination filesystem and into dataset dimelo_flow\n",
      "The filesystem destination used abfss://clase-4-dlt@fhbd.dfs.core.windows.net/GRUPO_6 location to store data\n",
      "Load package 1757139071.3071916 is LOADED and contains no failed jobs\n",
      "Normalized data for the following tables:\n",
      "- df_parquet: 3475226 row(s)\n",
      "- _dlt_pipeline_state: 1 row(s)\n",
      "\n",
      "Load package 1757139071.3071916 is NORMALIZED and NOT YET LOADED to the destination and contains no failed jobs\n"
     ]
    }
   ],
   "source": [
    "# Ejecuta el pipeline\n",
    "load_info = pipeline.run(\n",
    "    parquet_reader,\n",
    "    loader_file_format=\"parquet\",\n",
    "    write_disposition=\"replace\"\n",
    ")\n",
    "\n",
    "print(load_info)\n",
    "print(pipeline.last_trace.last_normalize_info)"
   ]
  },
  {
   "cell_type": "markdown",
   "id": "461d2be4-8f15-41d4-9592-46718bab975f",
   "metadata": {},
   "source": [
    "## Confirmar subida del archivo en bucket de Azure"
   ]
  },
  {
   "cell_type": "code",
   "execution_count": null,
   "id": "eb427785-785c-4bb9-b109-310496748e00",
   "metadata": {},
   "outputs": [],
   "source": [
    "# Configuración desde variables de entorno\n",
    "ACCOUNT_NAME = os.getenv(\"AZURE_STORAGE_ACCOUNT_NAME\")\n",
    "ACCOUNT_KEY = os.getenv(\"AZURE_STORAGE_ACCOUNT_KEY\")\n",
    "CONTAINER_NAME = os.getenv(\"AZURE_CONTAINER_NAME\")\n",
    "\n",
    "def list_azure_blobs():\n",
    "    \"\"\"Lista todos los blobs del contenedor\"\"\"\n",
    "    try:\n",
    "        # Crear cliente\n",
    "        blob_service_client = BlobServiceClient(\n",
    "            account_url=f\"https://{ACCOUNT_NAME}.blob.core.windows.net\",\n",
    "            credential=ACCOUNT_KEY\n",
    "        )\n",
    "        \n",
    "        # Obtener contenedor\n",
    "        container_client = blob_service_client.get_container_client(CONTAINER_NAME)\n",
    "        \n",
    "        # Listar blobs\n",
    "        print(f\"Objetos en el contenedor '{CONTAINER_NAME}':\")\n",
    "        print(\"-\" * 50)\n",
    "        \n",
    "        for i, blob in enumerate(container_client.list_blobs(), 1):\n",
    "            size_mb = blob.size / (1024 * 1024)\n",
    "            print(f\"{i:3d}. {blob.name} ({size_mb:.2f} MB)\")\n",
    "        \n",
    "    except Exception as e:\n",
    "        print(f\"Error: {e}\")"
   ]
  },
  {
   "cell_type": "code",
   "execution_count": null,
   "id": "11b6bcc2-d19f-47ea-ab43-6a306adb065a",
   "metadata": {},
   "outputs": [
    {
     "name": "stdout",
     "output_type": "stream",
     "text": [
      "Objetos en el contenedor 'clase-4-dlt':\n",
      "--------------------------------------------------\n",
      "  1. GRUPO_1 (0.00 MB)\n",
      "  2. GRUPO_2 (0.00 MB)\n",
      "  3. GRUPO_3 (0.00 MB)\n",
      "  4. GRUPO_4 (0.00 MB)\n",
      "  5. GRUPO_4/azure (0.00 MB)\n",
      "  6. GRUPO_4/azure/_dlt_loads (0.00 MB)\n",
      "  7. GRUPO_4/azure/_dlt_loads/s3_to_adls__1756955062.0879076.jsonl (0.00 MB)\n",
      "  8. GRUPO_4/azure/_dlt_loads/s3_to_adls__1756955439.6662495.jsonl (0.00 MB)\n",
      "  9. GRUPO_4/azure/_dlt_loads/s3_to_adls__1756955762.6651325.jsonl (0.00 MB)\n",
      " 10. GRUPO_4/azure/_dlt_loads/s3_to_adls__1756957266.020199.jsonl (0.00 MB)\n",
      " 11. GRUPO_4/azure/_dlt_loads/s3_to_adls__1757016731.154526.jsonl (0.00 MB)\n",
      " 12. GRUPO_4/azure/_dlt_loads/s3_to_adls__1757017205.9115121.jsonl (0.00 MB)\n",
      " 13. GRUPO_4/azure/_dlt_pipeline_state (0.00 MB)\n",
      " 14. GRUPO_4/azure/_dlt_pipeline_state/s3_to_adls__1756955062.0879076__b87e3316b2d9e3007f16a0659141e6b397338cc68bfd756b06fd9864ab857b50.jsonl (0.00 MB)\n",
      " 15. GRUPO_4/azure/_dlt_pipeline_state/s3_to_adls__1757017205.9115121__9e3546ac958855106c65e58ba544e1c3f6d641e163a9e293f2f86715c60e8bc3.jsonl (0.00 MB)\n",
      " 16. GRUPO_4/azure/_dlt_version (0.00 MB)\n",
      " 17. GRUPO_4/azure/_dlt_version/s3_to_adls__1756955066.600216__b87e3316b2d9e3007f16a0659141e6b397338cc68bfd756b06fd9864ab857b50.jsonl (0.00 MB)\n",
      " 18. GRUPO_4/azure/_dlt_version/s3_to_adls__1756955444.9353654__9ec06d1e8ec9af38452f00eb27ba4b7783fa09c4df032d95399887b270c8302b.jsonl (0.01 MB)\n",
      " 19. GRUPO_4/azure/_dlt_version/s3_to_adls__1757017210.371063__9e3546ac958855106c65e58ba544e1c3f6d641e163a9e293f2f86715c60e8bc3.jsonl (0.01 MB)\n",
      " 20. GRUPO_4/azure/filesystem (0.00 MB)\n",
      " 21. GRUPO_4/azure/filesystem/1756955062.0879076.2aefde85fb.parquet (0.00 MB)\n",
      " 22. GRUPO_4/azure/init (0.00 MB)\n",
      " 23. GRUPO_4/azure/post_2020 (0.00 MB)\n",
      " 24. GRUPO_4/azure/post_2020/1757016731.154526.a36581fdcc.parquet (70.47 MB)\n",
      " 25. GRUPO_4/azure/taxis (0.00 MB)\n",
      " 26. GRUPO_4/azure/taxis/1757017205.9115121.493ce7fd56.parquet (70.47 MB)\n",
      " 27. GRUPO_5 (0.00 MB)\n",
      " 28. GRUPO_6 (0.00 MB)\n",
      " 29. GRUPO_6/dimelo_flow (0.00 MB)\n",
      " 30. GRUPO_6/dimelo_flow/_dlt_loads (0.00 MB)\n",
      " 31. GRUPO_6/dimelo_flow/_dlt_loads/minio_to_azure__1757139071.3071916.jsonl (0.00 MB)\n",
      " 32. GRUPO_6/dimelo_flow/_dlt_pipeline_state (0.00 MB)\n",
      " 33. GRUPO_6/dimelo_flow/_dlt_pipeline_state/minio_to_azure__1757139071.3071916__294134021028353b99eb89d13521c215be766effa2581eb8c8d814269c8f2262.jsonl (0.00 MB)\n",
      " 34. GRUPO_6/dimelo_flow/_dlt_version (0.00 MB)\n",
      " 35. GRUPO_6/dimelo_flow/_dlt_version/minio_to_azure__1757139428.2860715__294134021028353b99eb89d13521c215be766effa2581eb8c8d814269c8f2262.jsonl (0.01 MB)\n",
      " 36. GRUPO_6/dimelo_flow/df_parquet (0.00 MB)\n",
      " 37. GRUPO_6/dimelo_flow/df_parquet/1757139071.3071916.9f0e32685c.parquet (138.83 MB)\n",
      " 38. GRUPO_6/dimelo_flow/init (0.00 MB)\n",
      " 39. GRUPO_7 (0.00 MB)\n",
      " 40. GRUPO_X (0.00 MB)\n",
      " 41. airbyte (0.00 MB)\n",
      " 42. taxis_parquet (0.00 MB)\n",
      " 43. taxis_parquet/_dlt_loads (0.00 MB)\n",
      " 44. taxis_parquet/_dlt_loads/minio_to_azure__1756830825.7607265.jsonl (0.00 MB)\n",
      " 45. taxis_parquet/_dlt_loads/s3_to_adls__1756192232.326299.jsonl (0.00 MB)\n",
      " 46. taxis_parquet/_dlt_pipeline_state (0.00 MB)\n",
      " 47. taxis_parquet/_dlt_pipeline_state/minio_to_azure__1756830825.7607265__75ed03c0c56fb0f6bc2f7188c57a506fa18a5e1dfb50f889530e4c52bb331ae5.jsonl (0.00 MB)\n",
      " 48. taxis_parquet/_dlt_pipeline_state/s3_to_adls__1756192232.326299__02c18a0eb933c4804f0ecbe73b7f5d91484dfabcc819d7784096dc45579d939b.jsonl (0.00 MB)\n",
      " 49. taxis_parquet/_dlt_version (0.00 MB)\n",
      " 50. taxis_parquet/_dlt_version/minio_to_azure__1756942346.5667217__75ed03c0c56fb0f6bc2f7188c57a506fa18a5e1dfb50f889530e4c52bb331ae5.jsonl (0.01 MB)\n",
      " 51. taxis_parquet/_dlt_version/s3_to_adls__1756192511.3382201__02c18a0eb933c4804f0ecbe73b7f5d91484dfabcc819d7784096dc45579d939b.jsonl (0.01 MB)\n",
      " 52. taxis_parquet/df_parquet (0.00 MB)\n",
      " 53. taxis_parquet/df_parquet/1756192232.326299.6b759f7d51.parquet (138.69 MB)\n",
      " 54. taxis_parquet/init (0.00 MB)\n",
      " 55. taxis_parquet/santiago_murgueitio (0.00 MB)\n",
      " 56. taxis_parquet/santiago_murgueitio/1756830825.7607265.0b47b42b38.parquet (229.88 MB)\n",
      " 57. taxis_parquet/santiago_murgueitio/1756830825.7607265.4df86c6685.parquet (2753.82 MB)\n"
     ]
    }
   ],
   "source": [
    "list_azure_blobs()"
   ]
  }
 ],
 "metadata": {
  "kernelspec": {
   "display_name": "Python 3",
   "language": "python",
   "name": "python3"
  },
  "language_info": {
   "codemirror_mode": {
    "name": "ipython",
    "version": 3
   },
   "file_extension": ".py",
   "mimetype": "text/x-python",
   "name": "python",
   "nbconvert_exporter": "python",
   "pygments_lexer": "ipython3",
   "version": "3.12.7"
  }
 },
 "nbformat": 4,
 "nbformat_minor": 5
}

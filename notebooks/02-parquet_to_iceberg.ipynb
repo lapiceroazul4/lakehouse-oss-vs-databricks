{
 "cells": [
  {
   "cell_type": "markdown",
   "id": "219416b9",
   "metadata": {},
   "source": [
    "# **Pipeline** - **Parquet** *(from MinIO bucket)* **to Iceberg**"
   ]
  },
  {
   "cell_type": "markdown",
   "id": "d6ba8293",
   "metadata": {},
   "source": [
    "## **Librerías**"
   ]
  },
  {
   "cell_type": "code",
   "execution_count": null,
   "id": "c477f78f-47cb-4c8b-bbe1-9826cd37dc46",
   "metadata": {},
   "outputs": [],
   "source": [
    "import os\n",
    "from dotenv import load_dotenv\n",
    "from pyiceberg.catalog import load_catalog\n",
    "import pyarrow.fs as fs\n",
    "import pyarrow.parquet as pq\n",
    "\n",
    "load_dotenv()"
   ]
  },
  {
   "cell_type": "code",
   "execution_count": null,
   "id": "31d4ecd2-9449-4149-9513-60e8735c9e56",
   "metadata": {},
   "outputs": [],
   "source": [
    "minio = fs.S3FileSystem(\n",
    "    access_key=os.getenv(\"MINIO_ACCESS_KEY\"),\n",
    "    secret_key=os.getenv(\"MINIO_SECRET_KEY\"),\n",
    "    endpoint_override=os.getenv(\"MINIO_ENDPOINT_URL\")\n",
    ")"
   ]
  },
  {
   "cell_type": "code",
   "execution_count": 27,
   "id": "e0b94cb3-cf74-4363-ab42-721876c85e8c",
   "metadata": {},
   "outputs": [],
   "source": [
    "path = \"taxis/taxis_parquet/df_data/1757218020.960362.00fc805900.parquet\""
   ]
  },
  {
   "cell_type": "code",
   "execution_count": 28,
   "id": "60c102c6-9099-404f-9e0a-ae8412102089",
   "metadata": {},
   "outputs": [],
   "source": [
    "table_taxis = pq.read_table(path, filesystem=minio)"
   ]
  },
  {
   "cell_type": "code",
   "execution_count": 29,
   "id": "e64946cb-a02d-41b4-9b42-fced5b0dcc4b",
   "metadata": {},
   "outputs": [
    {
     "name": "stdout",
     "output_type": "stream",
     "text": [
      "vendor_id: int32\n",
      "tpep_pickup_datetime: timestamp[us]\n",
      "tpep_dropoff_datetime: timestamp[us]\n",
      "passenger_count: int64\n",
      "trip_distance: double\n",
      "ratecode_id: int64\n",
      "store_and_fwd_flag: large_string\n",
      "pu_location_id: int32\n",
      "do_location_id: int32\n",
      "payment_type: int64\n",
      "fare_amount: double\n",
      "extra: double\n",
      "mta_tax: double\n",
      "tip_amount: double\n",
      "tolls_amount: double\n",
      "improvement_surcharge: double\n",
      "total_amount: double\n",
      "congestion_surcharge: double\n",
      "airport_fee: double\n",
      "cbd_congestion_fee: double\n"
     ]
    }
   ],
   "source": [
    "arrow_schema = table_taxis.schema\n",
    "print(arrow_schema)"
   ]
  },
  {
   "cell_type": "code",
   "execution_count": 30,
   "id": "38652e22-321c-45f6-bc2a-40005e38a3bb",
   "metadata": {},
   "outputs": [
    {
     "name": "stdout",
     "output_type": "stream",
     "text": [
      "<FileInfo for 'taxis/taxis_parquet/df_data/1757218020.960362.00fc805900.parquet': type=FileType.File, size=72092726>\n",
      "<FileInfo for 'taxis/taxis_parquet/df_data/': type=FileType.Directory>\n"
     ]
    }
   ],
   "source": [
    "for file_info in minio.get_file_info([path, \"taxis/taxis_parquet/df_data/\"]):\n",
    "    print(file_info)"
   ]
  },
  {
   "cell_type": "markdown",
   "id": "c624c1e7-cf7f-41db-9a71-e48a9ad1b1b7",
   "metadata": {},
   "source": [
    "## Conversión a tabla de Iceberg"
   ]
  },
  {
   "cell_type": "code",
   "execution_count": null,
   "id": "be526986-cc7c-488a-84cb-51abd1356b9d",
   "metadata": {},
   "outputs": [],
   "source": [
    "catalog = load_catalog(\n",
    "    \"nessie\",\n",
    "    **{\n",
    "        \"uri\": os.getenv(\"NESSIE_URI\"),\n",
    "        \"s3.access-key-id\": os.getenv(\"NESSIE_ACCESS_KEY\"),\n",
    "        \"s3.secret-access-key\": os.getenv(\"NESSIE_SECRET_KEY\")\n",
    "    }\n",
    ")"
   ]
  },
  {
   "cell_type": "code",
   "execution_count": 32,
   "id": "2123f0fb-510d-4e2d-a675-303afc166d30",
   "metadata": {},
   "outputs": [
    {
     "name": "stdout",
     "output_type": "stream",
     "text": [
      "[]\n"
     ]
    }
   ],
   "source": [
    "namespaces = catalog.list_namespaces()\n",
    "print(namespaces)"
   ]
  },
  {
   "cell_type": "code",
   "execution_count": 33,
   "id": "251cf1eb-1120-4795-9e41-5d68217175e2",
   "metadata": {},
   "outputs": [],
   "source": [
    "try:\n",
    "    catalog.create_namespace(\"taxis\")\n",
    "except Exception as e:\n",
    "    print(\"El catálogo ya está creado →\", e)"
   ]
  },
  {
   "cell_type": "code",
   "execution_count": 34,
   "id": "05dd9b40-2b0a-4648-903c-32f5a7aa2c0f",
   "metadata": {},
   "outputs": [
    {
     "name": "stdout",
     "output_type": "stream",
     "text": [
      "[('taxis',)]\n"
     ]
    }
   ],
   "source": [
    "namespaces = catalog.list_namespaces()\n",
    "print(namespaces)"
   ]
  },
  {
   "cell_type": "code",
   "execution_count": 35,
   "id": "4b1e8308-7ca0-444a-91ec-1e3e5419578b",
   "metadata": {},
   "outputs": [],
   "source": [
    "try:\n",
    "    catalog.create_table(\"taxis.taxis_iceberg\", schema=arrow_schema)\n",
    "except Exception as e:\n",
    "    print(\"La tabla ya está creada →\", e)"
   ]
  },
  {
   "cell_type": "code",
   "execution_count": 36,
   "id": "c08a75dd-deba-4004-8e79-b7329e756668",
   "metadata": {},
   "outputs": [],
   "source": [
    "taxis_iceberg = catalog.load_table(\"taxis.taxis_iceberg\")\n",
    "taxis_iceberg.append(table_taxis)"
   ]
  },
  {
   "cell_type": "markdown",
   "id": "6c0a6ce4-17f4-48bb-b01a-87589411d9f9",
   "metadata": {},
   "source": [
    "## Consultar los datos"
   ]
  },
  {
   "cell_type": "code",
   "execution_count": 37,
   "id": "a2bf0194-6797-4331-8953-6cfc6f778815",
   "metadata": {},
   "outputs": [],
   "source": [
    "result = taxis_iceberg.scan()\n",
    "result_arrow = result.to_arrow()\n",
    "result_df = result_arrow.to_pandas()"
   ]
  },
  {
   "cell_type": "code",
   "execution_count": 38,
   "id": "6b56dfc2-fa08-48a4-b5bf-edd6d0a75184",
   "metadata": {},
   "outputs": [
    {
     "data": {
      "text/html": [
       "<div>\n",
       "<style scoped>\n",
       "    .dataframe tbody tr th:only-of-type {\n",
       "        vertical-align: middle;\n",
       "    }\n",
       "\n",
       "    .dataframe tbody tr th {\n",
       "        vertical-align: top;\n",
       "    }\n",
       "\n",
       "    .dataframe thead th {\n",
       "        text-align: right;\n",
       "    }\n",
       "</style>\n",
       "<table border=\"1\" class=\"dataframe\">\n",
       "  <thead>\n",
       "    <tr style=\"text-align: right;\">\n",
       "      <th></th>\n",
       "      <th>vendor_id</th>\n",
       "      <th>tpep_pickup_datetime</th>\n",
       "      <th>tpep_dropoff_datetime</th>\n",
       "      <th>passenger_count</th>\n",
       "      <th>trip_distance</th>\n",
       "      <th>ratecode_id</th>\n",
       "      <th>store_and_fwd_flag</th>\n",
       "      <th>pu_location_id</th>\n",
       "      <th>do_location_id</th>\n",
       "      <th>payment_type</th>\n",
       "      <th>fare_amount</th>\n",
       "      <th>extra</th>\n",
       "      <th>mta_tax</th>\n",
       "      <th>tip_amount</th>\n",
       "      <th>tolls_amount</th>\n",
       "      <th>improvement_surcharge</th>\n",
       "      <th>total_amount</th>\n",
       "      <th>congestion_surcharge</th>\n",
       "      <th>airport_fee</th>\n",
       "      <th>cbd_congestion_fee</th>\n",
       "    </tr>\n",
       "  </thead>\n",
       "  <tbody>\n",
       "    <tr>\n",
       "      <th>0</th>\n",
       "      <td>1</td>\n",
       "      <td>2025-01-01 00:18:38</td>\n",
       "      <td>2025-01-01 00:26:59</td>\n",
       "      <td>1.0</td>\n",
       "      <td>1.60</td>\n",
       "      <td>1.0</td>\n",
       "      <td>N</td>\n",
       "      <td>229</td>\n",
       "      <td>237</td>\n",
       "      <td>1</td>\n",
       "      <td>10.0</td>\n",
       "      <td>3.5</td>\n",
       "      <td>0.5</td>\n",
       "      <td>3.00</td>\n",
       "      <td>0.0</td>\n",
       "      <td>1.0</td>\n",
       "      <td>18.00</td>\n",
       "      <td>2.5</td>\n",
       "      <td>0.0</td>\n",
       "      <td>0.0</td>\n",
       "    </tr>\n",
       "    <tr>\n",
       "      <th>1</th>\n",
       "      <td>1</td>\n",
       "      <td>2025-01-01 00:32:40</td>\n",
       "      <td>2025-01-01 00:35:13</td>\n",
       "      <td>1.0</td>\n",
       "      <td>0.50</td>\n",
       "      <td>1.0</td>\n",
       "      <td>N</td>\n",
       "      <td>236</td>\n",
       "      <td>237</td>\n",
       "      <td>1</td>\n",
       "      <td>5.1</td>\n",
       "      <td>3.5</td>\n",
       "      <td>0.5</td>\n",
       "      <td>2.02</td>\n",
       "      <td>0.0</td>\n",
       "      <td>1.0</td>\n",
       "      <td>12.12</td>\n",
       "      <td>2.5</td>\n",
       "      <td>0.0</td>\n",
       "      <td>0.0</td>\n",
       "    </tr>\n",
       "    <tr>\n",
       "      <th>2</th>\n",
       "      <td>1</td>\n",
       "      <td>2025-01-01 00:44:04</td>\n",
       "      <td>2025-01-01 00:46:01</td>\n",
       "      <td>1.0</td>\n",
       "      <td>0.60</td>\n",
       "      <td>1.0</td>\n",
       "      <td>N</td>\n",
       "      <td>141</td>\n",
       "      <td>141</td>\n",
       "      <td>1</td>\n",
       "      <td>5.1</td>\n",
       "      <td>3.5</td>\n",
       "      <td>0.5</td>\n",
       "      <td>2.00</td>\n",
       "      <td>0.0</td>\n",
       "      <td>1.0</td>\n",
       "      <td>12.10</td>\n",
       "      <td>2.5</td>\n",
       "      <td>0.0</td>\n",
       "      <td>0.0</td>\n",
       "    </tr>\n",
       "    <tr>\n",
       "      <th>3</th>\n",
       "      <td>2</td>\n",
       "      <td>2025-01-01 00:14:27</td>\n",
       "      <td>2025-01-01 00:20:01</td>\n",
       "      <td>3.0</td>\n",
       "      <td>0.52</td>\n",
       "      <td>1.0</td>\n",
       "      <td>N</td>\n",
       "      <td>244</td>\n",
       "      <td>244</td>\n",
       "      <td>2</td>\n",
       "      <td>7.2</td>\n",
       "      <td>1.0</td>\n",
       "      <td>0.5</td>\n",
       "      <td>0.00</td>\n",
       "      <td>0.0</td>\n",
       "      <td>1.0</td>\n",
       "      <td>9.70</td>\n",
       "      <td>0.0</td>\n",
       "      <td>0.0</td>\n",
       "      <td>0.0</td>\n",
       "    </tr>\n",
       "    <tr>\n",
       "      <th>4</th>\n",
       "      <td>2</td>\n",
       "      <td>2025-01-01 00:21:34</td>\n",
       "      <td>2025-01-01 00:25:06</td>\n",
       "      <td>3.0</td>\n",
       "      <td>0.66</td>\n",
       "      <td>1.0</td>\n",
       "      <td>N</td>\n",
       "      <td>244</td>\n",
       "      <td>116</td>\n",
       "      <td>2</td>\n",
       "      <td>5.8</td>\n",
       "      <td>1.0</td>\n",
       "      <td>0.5</td>\n",
       "      <td>0.00</td>\n",
       "      <td>0.0</td>\n",
       "      <td>1.0</td>\n",
       "      <td>8.30</td>\n",
       "      <td>0.0</td>\n",
       "      <td>0.0</td>\n",
       "      <td>0.0</td>\n",
       "    </tr>\n",
       "  </tbody>\n",
       "</table>\n",
       "</div>"
      ],
      "text/plain": [
       "   vendor_id tpep_pickup_datetime tpep_dropoff_datetime  passenger_count  \\\n",
       "0          1  2025-01-01 00:18:38   2025-01-01 00:26:59              1.0   \n",
       "1          1  2025-01-01 00:32:40   2025-01-01 00:35:13              1.0   \n",
       "2          1  2025-01-01 00:44:04   2025-01-01 00:46:01              1.0   \n",
       "3          2  2025-01-01 00:14:27   2025-01-01 00:20:01              3.0   \n",
       "4          2  2025-01-01 00:21:34   2025-01-01 00:25:06              3.0   \n",
       "\n",
       "   trip_distance  ratecode_id store_and_fwd_flag  pu_location_id  \\\n",
       "0           1.60          1.0                  N             229   \n",
       "1           0.50          1.0                  N             236   \n",
       "2           0.60          1.0                  N             141   \n",
       "3           0.52          1.0                  N             244   \n",
       "4           0.66          1.0                  N             244   \n",
       "\n",
       "   do_location_id  payment_type  fare_amount  extra  mta_tax  tip_amount  \\\n",
       "0             237             1         10.0    3.5      0.5        3.00   \n",
       "1             237             1          5.1    3.5      0.5        2.02   \n",
       "2             141             1          5.1    3.5      0.5        2.00   \n",
       "3             244             2          7.2    1.0      0.5        0.00   \n",
       "4             116             2          5.8    1.0      0.5        0.00   \n",
       "\n",
       "   tolls_amount  improvement_surcharge  total_amount  congestion_surcharge  \\\n",
       "0           0.0                    1.0         18.00                   2.5   \n",
       "1           0.0                    1.0         12.12                   2.5   \n",
       "2           0.0                    1.0         12.10                   2.5   \n",
       "3           0.0                    1.0          9.70                   0.0   \n",
       "4           0.0                    1.0          8.30                   0.0   \n",
       "\n",
       "   airport_fee  cbd_congestion_fee  \n",
       "0          0.0                 0.0  \n",
       "1          0.0                 0.0  \n",
       "2          0.0                 0.0  \n",
       "3          0.0                 0.0  \n",
       "4          0.0                 0.0  "
      ]
     },
     "execution_count": 38,
     "metadata": {},
     "output_type": "execute_result"
    }
   ],
   "source": [
    "result_df.head()"
   ]
  }
 ],
 "metadata": {
  "kernelspec": {
   "display_name": "Python 3 (ipykernel)",
   "language": "python",
   "name": "python3"
  },
  "language_info": {
   "codemirror_mode": {
    "name": "ipython",
    "version": 3
   },
   "file_extension": ".py",
   "mimetype": "text/x-python",
   "name": "python",
   "nbconvert_exporter": "python",
   "pygments_lexer": "ipython3",
   "version": "3.11.6"
  }
 },
 "nbformat": 4,
 "nbformat_minor": 5
}

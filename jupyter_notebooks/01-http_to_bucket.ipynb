{
 "cells": [
  {
   "cell_type": "code",
   "execution_count": 1,
   "id": "89debc2e-b7ec-40ad-98de-bd9e02b30751",
   "metadata": {},
   "outputs": [],
   "source": [
    "import dlt\n",
    "import pyarrow.parquet as pq\n",
    "import fsspec"
   ]
  },
  {
   "cell_type": "code",
   "execution_count": 2,
   "id": "f70dd7a8-28d7-46d6-9e1a-9dc90d884aae",
   "metadata": {},
   "outputs": [],
   "source": [
    "# Define un recurso que lee datos de un parquet remoto\n",
    "@dlt.resource(table_name=\"df_data\")\n",
    "def my_df():\n",
    "    parquet_url = \"https://d37ci6vzurychx.cloudfront.net/trip-data/yellow_tripdata_2025-01.parquet\"\n",
    "    with fsspec.open(parquet_url, mode=\"rb\") as f:\n",
    "        table = pq.read_table(f)\n",
    "        yield table"
   ]
  },
  {
   "cell_type": "code",
   "execution_count": 3,
   "id": "0ca16023-de77-4df7-8829-fea333da1e58",
   "metadata": {},
   "outputs": [],
   "source": [
    "# 🚀 Pipeline configurado con destino filesystem\n",
    "# Las credenciales se leerán automáticamente desde `.dlt/secrets.toml`\n",
    "pipeline = dlt.pipeline(\n",
    "    pipeline_name=\"parquet_to_minio\",\n",
    "    destination=\"filesystem\",\n",
    "    dataset_name=\"taxis_parquet\",\n",
    ")"
   ]
  },
  {
   "cell_type": "code",
   "execution_count": 4,
   "id": "7d9fc2b2-b417-4aa8-ae1d-e4ef138365cf",
   "metadata": {},
   "outputs": [
    {
     "name": "stdout",
     "output_type": "stream",
     "text": [
      "Pipeline parquet_to_minio load step completed in 0.66 seconds\n",
      "1 load package(s) were loaded to destination filesystem and into dataset taxis_parquet\n",
      "The filesystem destination used s3://taxis location to store data\n",
      "Load package 1757200138.9694595 is LOADED and contains no failed jobs\n"
     ]
    }
   ],
   "source": [
    "# Ejecutamos el pipeline\n",
    "load_info = pipeline.run(\n",
    "    my_df,\n",
    "    loader_file_format=\"parquet\",\n",
    "    write_disposition=\"replace\"\n",
    ")\n",
    "print(load_info)"
   ]
  }
 ],
 "metadata": {
  "kernelspec": {
   "display_name": "Python 3 (ipykernel)",
   "language": "python",
   "name": "python3"
  },
  "language_info": {
   "codemirror_mode": {
    "name": "ipython",
    "version": 3
   },
   "file_extension": ".py",
   "mimetype": "text/x-python",
   "name": "python",
   "nbconvert_exporter": "python",
   "pygments_lexer": "ipython3",
   "version": "3.11.6"
  }
 },
 "nbformat": 4,
 "nbformat_minor": 5
}
